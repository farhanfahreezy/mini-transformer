{
 "cells": [
  {
   "cell_type": "code",
   "execution_count": 9,
   "id": "1d1c7914",
   "metadata": {},
   "outputs": [
    {
     "name": "stdout",
     "output_type": "stream",
     "text": [
      "[15496, 11, 995, 0]\n",
      "Hello, world!\n"
     ]
    }
   ],
   "source": [
    "import tiktoken\n",
    "\n",
    "enc = tiktoken.get_encoding(\"gpt2\")\n",
    "\n",
    "def count_tokens(text):\n",
    "    return len(enc.encode(text))\n",
    "\n",
    "text = \"Hello, world!\"\n",
    "tokens = enc.encode(text)\n",
    "print(tokens)  # List of token IDs\n",
    "\n",
    "decoded_text = enc.decode(tokens)\n",
    "print(decoded_text)  # \"Hello, world!\""
   ]
  },
  {
   "cell_type": "code",
   "execution_count": 4,
   "id": "83ce9d0b",
   "metadata": {},
   "outputs": [],
   "source": [
    "import pandas as pd"
   ]
  },
  {
   "cell_type": "code",
   "execution_count": 5,
   "id": "0c3d0faf",
   "metadata": {},
   "outputs": [],
   "source": [
    "df = pd.read_csv('../data/LeetCodeDataset-train.csv')"
   ]
  },
  {
   "cell_type": "code",
   "execution_count": 11,
   "id": "f948aed4",
   "metadata": {},
   "outputs": [],
   "source": [
    "df['problem_description_tokencount'] = df['problem_description'].apply(count_tokens)\n",
    "df['response_tokencount'] = df['response'].apply(count_tokens)\n"
   ]
  },
  {
   "cell_type": "code",
   "execution_count": 19,
   "id": "f4eb3e89",
   "metadata": {},
   "outputs": [],
   "source": [
    "df.sort_values(by='problem_description_tokencount', ascending=False, inplace=True)\n"
   ]
  },
  {
   "cell_type": "code",
   "execution_count": 20,
   "id": "12f39635",
   "metadata": {},
   "outputs": [
    {
     "data": {
      "text/html": [
       "<div>\n",
       "<style scoped>\n",
       "    .dataframe tbody tr th:only-of-type {\n",
       "        vertical-align: middle;\n",
       "    }\n",
       "\n",
       "    .dataframe tbody tr th {\n",
       "        vertical-align: top;\n",
       "    }\n",
       "\n",
       "    .dataframe thead th {\n",
       "        text-align: right;\n",
       "    }\n",
       "</style>\n",
       "<table border=\"1\" class=\"dataframe\">\n",
       "  <thead>\n",
       "    <tr style=\"text-align: right;\">\n",
       "      <th></th>\n",
       "      <th>problem_description</th>\n",
       "      <th>response</th>\n",
       "      <th>problem_description_tokencount</th>\n",
       "      <th>response_tokencount</th>\n",
       "    </tr>\n",
       "  </thead>\n",
       "  <tbody>\n",
       "    <tr>\n",
       "      <th>917</th>\n",
       "      <td>You are given a large sample of integers in th...</td>\n",
       "      <td>```python\\nfrom typing import List\\n\\nclass So...</td>\n",
       "      <td>1614</td>\n",
       "      <td>868</td>\n",
       "    </tr>\n",
       "    <tr>\n",
       "      <th>2425</th>\n",
       "      <td>You are given two 0-indexed strings source and...</td>\n",
       "      <td>To solve this problem, we need to find the min...</td>\n",
       "      <td>1086</td>\n",
       "      <td>1453</td>\n",
       "    </tr>\n",
       "    <tr>\n",
       "      <th>1343</th>\n",
       "      <td>Given an integer array instructions, you are a...</td>\n",
       "      <td>To solve this problem efficiently, we can use ...</td>\n",
       "      <td>1059</td>\n",
       "      <td>1045</td>\n",
       "    </tr>\n",
       "    <tr>\n",
       "      <th>1464</th>\n",
       "      <td>You are given a 2D integer array orders, where...</td>\n",
       "      <td>```python\\nfrom typing import List\\nimport hea...</td>\n",
       "      <td>1056</td>\n",
       "      <td>942</td>\n",
       "    </tr>\n",
       "    <tr>\n",
       "      <th>1761</th>\n",
       "      <td>There are two types of persons:\\n\\nThe good pe...</td>\n",
       "      <td>To solve this problem, we can use a bitmask ap...</td>\n",
       "      <td>1024</td>\n",
       "      <td>843</td>\n",
       "    </tr>\n",
       "  </tbody>\n",
       "</table>\n",
       "</div>"
      ],
      "text/plain": [
       "                                    problem_description  \\\n",
       "917   You are given a large sample of integers in th...   \n",
       "2425  You are given two 0-indexed strings source and...   \n",
       "1343  Given an integer array instructions, you are a...   \n",
       "1464  You are given a 2D integer array orders, where...   \n",
       "1761  There are two types of persons:\\n\\nThe good pe...   \n",
       "\n",
       "                                               response  \\\n",
       "917   ```python\\nfrom typing import List\\n\\nclass So...   \n",
       "2425  To solve this problem, we need to find the min...   \n",
       "1343  To solve this problem efficiently, we can use ...   \n",
       "1464  ```python\\nfrom typing import List\\nimport hea...   \n",
       "1761  To solve this problem, we can use a bitmask ap...   \n",
       "\n",
       "      problem_description_tokencount  response_tokencount  \n",
       "917                             1614                  868  \n",
       "2425                            1086                 1453  \n",
       "1343                            1059                 1045  \n",
       "1464                            1056                  942  \n",
       "1761                            1024                  843  "
      ]
     },
     "execution_count": 20,
     "metadata": {},
     "output_type": "execute_result"
    }
   ],
   "source": [
    "df.head()"
   ]
  },
  {
   "cell_type": "code",
   "execution_count": 28,
   "id": "a4226468",
   "metadata": {},
   "outputs": [
    {
     "data": {
      "text/plain": [
       "'Given an array of integers nums\\xa0and an integer target, return indices of the two numbers such that they add up to target.\\nYou may assume that each input would have exactly one solution, and you may not use the same element twice.\\nYou can return the answer in any order.\\n\\xa0\\nExample 1:\\n\\nInput: nums = [2,7,11,15], target = 9\\nOutput: [0,1]\\nExplanation: Because nums[0] + nums[1] == 9, we return [0, 1].\\n\\nExample 2:\\n\\nInput: nums = [3,2,4], target = 6\\nOutput: [1,2]\\n\\nExample 3:\\n\\nInput: nums = [3,3], target = 6\\nOutput: [0,1]\\n\\n\\xa0\\nConstraints:\\n\\n2 <= nums.length <= 104\\n-109 <= nums[i] <= 109\\n-109 <= target <= 109\\nOnly one valid answer exists.\\n\\n\\xa0\\nFollow-up:\\xa0Can you come up with an algorithm that is less than O(n2)\\xa0time complexity?'"
      ]
     },
     "execution_count": 28,
     "metadata": {},
     "output_type": "execute_result"
    }
   ],
   "source": [
    "df['problem_description'][0]"
   ]
  }
 ],
 "metadata": {
  "kernelspec": {
   "display_name": "mini-transformer-niLWKGjv",
   "language": "python",
   "name": "python3"
  },
  "language_info": {
   "codemirror_mode": {
    "name": "ipython",
    "version": 3
   },
   "file_extension": ".py",
   "mimetype": "text/x-python",
   "name": "python",
   "nbconvert_exporter": "python",
   "pygments_lexer": "ipython3",
   "version": "3.10.11"
  }
 },
 "nbformat": 4,
 "nbformat_minor": 5
}
